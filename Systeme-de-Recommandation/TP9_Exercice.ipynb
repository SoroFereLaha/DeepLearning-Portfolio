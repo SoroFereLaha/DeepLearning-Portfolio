{
  "cells": [
    {
      "cell_type": "code",
      "execution_count": 7,
      "metadata": {
        "id": "W3E52kl2kUKa"
      },
      "outputs": [],
      "source": [
        "import tensorflow as tf\n",
        "import pandas as pd\n",
        "import numpy as np"
      ]
    },
    {
      "cell_type": "markdown",
      "source": [
        "# Dataset description:\n",
        "\n",
        "### 1. 3 Data files contain anonymous ratings data from 73,421 users.\n",
        "\n",
        "### 2.   Data files are in .zip format, when unzipped, they are in Excel (.xls) format\n",
        "### 3.   Ratings are real values ranging from -10.00 to +10.00 (the value \"99\" corresponds to \"null\" = \"not rated\").\n",
        "### 4. One row per user\n",
        "### 5. The first column gives the number of jokes rated by that user. The next 100 columns give the ratings for jokes 01 - 100.\n",
        "### 6. The sub-matrix including only columns {5, 7, 8, 13, 15, 16, 17, 18, 19, 20} is dense. Almost all users have rated those jokes (see discussion of \"universal queries\" in the above paper).\n",
        "\n",
        "\n",
        "\n",
        "\n",
        "\n",
        "\n",
        "\n"
      ],
      "metadata": {
        "id": "TXDw3KhS60fF"
      }
    },
    {
      "cell_type": "markdown",
      "source": [
        "# Étape 1 : Chargement et préparation des données"
      ],
      "metadata": {
        "id": "QC4K7kup4clP"
      }
    },
    {
      "cell_type": "code",
      "execution_count": 9,
      "metadata": {
        "colab": {
          "base_uri": "https://localhost:8080/",
          "height": 627
        },
        "id": "YoFG88vpnKRG",
        "outputId": "2f824b7f-996d-4b47-84fb-5df70fc82634"
      },
      "outputs": [
        {
          "output_type": "stream",
          "name": "stdout",
          "text": [
            "Dimensions initiales du dataset : (24983, 101)\n",
            "   0      1      2      3      4     5     6     7     8      9    ...    91   \\\n",
            "0   74  -7.82   8.79  -9.66  -8.16 -7.52 -8.50 -9.85  4.17  -8.98  ...   2.82   \n",
            "1  100   4.08  -0.29   6.36   4.37 -2.38 -9.66 -0.73 -5.34   8.88  ...   2.82   \n",
            "2   49  99.00  99.00  99.00  99.00  9.03  9.27  9.03  9.27  99.00  ...  99.00   \n",
            "3   48  99.00   8.35  99.00  99.00  1.80  8.16 -2.82  6.21  99.00  ...  99.00   \n",
            "4   91   8.50   4.61  -4.17  -5.39  1.36  1.60  7.04  4.61  -0.44  ...   5.19   \n",
            "\n",
            "     92     93     94     95     96     97     98     99     100  \n",
            "0  99.00  99.00  99.00  99.00  99.00  -5.63  99.00  99.00  99.00  \n",
            "1  -4.95  -0.29   7.86  -0.19  -2.14   3.06   0.34  -4.32   1.07  \n",
            "2  99.00  99.00   9.08  99.00  99.00  99.00  99.00  99.00  99.00  \n",
            "3  99.00  99.00   0.53  99.00  99.00  99.00  99.00  99.00  99.00  \n",
            "4   5.58   4.27   5.19   5.73   1.55   3.11   6.55   1.80   1.60  \n",
            "\n",
            "[5 rows x 101 columns]\n",
            "Aperçu des données après filtrage et normalisation :\n"
          ]
        },
        {
          "output_type": "stream",
          "name": "stderr",
          "text": [
            "<ipython-input-9-ad025938ade8>:14: SettingWithCopyWarning: \n",
            "A value is trying to be set on a copy of a slice from a DataFrame\n",
            "\n",
            "See the caveats in the documentation: https://pandas.pydata.org/pandas-docs/stable/user_guide/indexing.html#returning-a-view-versus-a-copy\n",
            "  jester_data_dense.replace(99, np.nan, inplace=True)\n"
          ]
        },
        {
          "output_type": "execute_result",
          "data": {
            "text/plain": [
              "       4       6       7       12      14      15      16      17      18  \\\n",
              "0  0.0920  0.0750  0.0075  0.1625  0.9225  0.1410  0.1240  0.1285  0.0095   \n",
              "1  0.7185  0.0170  0.4635  0.9320  0.8715  0.7280  0.4515  0.7330  0.4660   \n",
              "2     NaN  0.9635  0.9515  0.8785  0.8085  0.1820  0.1555  0.1070  0.9515   \n",
              "3     NaN  0.9080  0.3590  0.8300  0.9055  0.1385  0.1675  0.5585  0.1700   \n",
              "4  0.2305  0.5800  0.8520  0.8420  0.8615  0.3835  0.0170  0.6360  0.4320   \n",
              "\n",
              "       19  \n",
              "0  0.0075  \n",
              "1  0.6650  \n",
              "2  0.9515  \n",
              "3  0.3180  \n",
              "4  0.6285  "
            ],
            "text/html": [
              "\n",
              "  <div id=\"df-fbeef449-68be-4a0a-993c-fa40c615406a\" class=\"colab-df-container\">\n",
              "    <div>\n",
              "<style scoped>\n",
              "    .dataframe tbody tr th:only-of-type {\n",
              "        vertical-align: middle;\n",
              "    }\n",
              "\n",
              "    .dataframe tbody tr th {\n",
              "        vertical-align: top;\n",
              "    }\n",
              "\n",
              "    .dataframe thead th {\n",
              "        text-align: right;\n",
              "    }\n",
              "</style>\n",
              "<table border=\"1\" class=\"dataframe\">\n",
              "  <thead>\n",
              "    <tr style=\"text-align: right;\">\n",
              "      <th></th>\n",
              "      <th>4</th>\n",
              "      <th>6</th>\n",
              "      <th>7</th>\n",
              "      <th>12</th>\n",
              "      <th>14</th>\n",
              "      <th>15</th>\n",
              "      <th>16</th>\n",
              "      <th>17</th>\n",
              "      <th>18</th>\n",
              "      <th>19</th>\n",
              "    </tr>\n",
              "  </thead>\n",
              "  <tbody>\n",
              "    <tr>\n",
              "      <th>0</th>\n",
              "      <td>0.0920</td>\n",
              "      <td>0.0750</td>\n",
              "      <td>0.0075</td>\n",
              "      <td>0.1625</td>\n",
              "      <td>0.9225</td>\n",
              "      <td>0.1410</td>\n",
              "      <td>0.1240</td>\n",
              "      <td>0.1285</td>\n",
              "      <td>0.0095</td>\n",
              "      <td>0.0075</td>\n",
              "    </tr>\n",
              "    <tr>\n",
              "      <th>1</th>\n",
              "      <td>0.7185</td>\n",
              "      <td>0.0170</td>\n",
              "      <td>0.4635</td>\n",
              "      <td>0.9320</td>\n",
              "      <td>0.8715</td>\n",
              "      <td>0.7280</td>\n",
              "      <td>0.4515</td>\n",
              "      <td>0.7330</td>\n",
              "      <td>0.4660</td>\n",
              "      <td>0.6650</td>\n",
              "    </tr>\n",
              "    <tr>\n",
              "      <th>2</th>\n",
              "      <td>NaN</td>\n",
              "      <td>0.9635</td>\n",
              "      <td>0.9515</td>\n",
              "      <td>0.8785</td>\n",
              "      <td>0.8085</td>\n",
              "      <td>0.1820</td>\n",
              "      <td>0.1555</td>\n",
              "      <td>0.1070</td>\n",
              "      <td>0.9515</td>\n",
              "      <td>0.9515</td>\n",
              "    </tr>\n",
              "    <tr>\n",
              "      <th>3</th>\n",
              "      <td>NaN</td>\n",
              "      <td>0.9080</td>\n",
              "      <td>0.3590</td>\n",
              "      <td>0.8300</td>\n",
              "      <td>0.9055</td>\n",
              "      <td>0.1385</td>\n",
              "      <td>0.1675</td>\n",
              "      <td>0.5585</td>\n",
              "      <td>0.1700</td>\n",
              "      <td>0.3180</td>\n",
              "    </tr>\n",
              "    <tr>\n",
              "      <th>4</th>\n",
              "      <td>0.2305</td>\n",
              "      <td>0.5800</td>\n",
              "      <td>0.8520</td>\n",
              "      <td>0.8420</td>\n",
              "      <td>0.8615</td>\n",
              "      <td>0.3835</td>\n",
              "      <td>0.0170</td>\n",
              "      <td>0.6360</td>\n",
              "      <td>0.4320</td>\n",
              "      <td>0.6285</td>\n",
              "    </tr>\n",
              "  </tbody>\n",
              "</table>\n",
              "</div>\n",
              "    <div class=\"colab-df-buttons\">\n",
              "\n",
              "  <div class=\"colab-df-container\">\n",
              "    <button class=\"colab-df-convert\" onclick=\"convertToInteractive('df-fbeef449-68be-4a0a-993c-fa40c615406a')\"\n",
              "            title=\"Convert this dataframe to an interactive table.\"\n",
              "            style=\"display:none;\">\n",
              "\n",
              "  <svg xmlns=\"http://www.w3.org/2000/svg\" height=\"24px\" viewBox=\"0 -960 960 960\">\n",
              "    <path d=\"M120-120v-720h720v720H120Zm60-500h600v-160H180v160Zm220 220h160v-160H400v160Zm0 220h160v-160H400v160ZM180-400h160v-160H180v160Zm440 0h160v-160H620v160ZM180-180h160v-160H180v160Zm440 0h160v-160H620v160Z\"/>\n",
              "  </svg>\n",
              "    </button>\n",
              "\n",
              "  <style>\n",
              "    .colab-df-container {\n",
              "      display:flex;\n",
              "      gap: 12px;\n",
              "    }\n",
              "\n",
              "    .colab-df-convert {\n",
              "      background-color: #E8F0FE;\n",
              "      border: none;\n",
              "      border-radius: 50%;\n",
              "      cursor: pointer;\n",
              "      display: none;\n",
              "      fill: #1967D2;\n",
              "      height: 32px;\n",
              "      padding: 0 0 0 0;\n",
              "      width: 32px;\n",
              "    }\n",
              "\n",
              "    .colab-df-convert:hover {\n",
              "      background-color: #E2EBFA;\n",
              "      box-shadow: 0px 1px 2px rgba(60, 64, 67, 0.3), 0px 1px 3px 1px rgba(60, 64, 67, 0.15);\n",
              "      fill: #174EA6;\n",
              "    }\n",
              "\n",
              "    .colab-df-buttons div {\n",
              "      margin-bottom: 4px;\n",
              "    }\n",
              "\n",
              "    [theme=dark] .colab-df-convert {\n",
              "      background-color: #3B4455;\n",
              "      fill: #D2E3FC;\n",
              "    }\n",
              "\n",
              "    [theme=dark] .colab-df-convert:hover {\n",
              "      background-color: #434B5C;\n",
              "      box-shadow: 0px 1px 3px 1px rgba(0, 0, 0, 0.15);\n",
              "      filter: drop-shadow(0px 1px 2px rgba(0, 0, 0, 0.3));\n",
              "      fill: #FFFFFF;\n",
              "    }\n",
              "  </style>\n",
              "\n",
              "    <script>\n",
              "      const buttonEl =\n",
              "        document.querySelector('#df-fbeef449-68be-4a0a-993c-fa40c615406a button.colab-df-convert');\n",
              "      buttonEl.style.display =\n",
              "        google.colab.kernel.accessAllowed ? 'block' : 'none';\n",
              "\n",
              "      async function convertToInteractive(key) {\n",
              "        const element = document.querySelector('#df-fbeef449-68be-4a0a-993c-fa40c615406a');\n",
              "        const dataTable =\n",
              "          await google.colab.kernel.invokeFunction('convertToInteractive',\n",
              "                                                    [key], {});\n",
              "        if (!dataTable) return;\n",
              "\n",
              "        const docLinkHtml = 'Like what you see? Visit the ' +\n",
              "          '<a target=\"_blank\" href=https://colab.research.google.com/notebooks/data_table.ipynb>data table notebook</a>'\n",
              "          + ' to learn more about interactive tables.';\n",
              "        element.innerHTML = '';\n",
              "        dataTable['output_type'] = 'display_data';\n",
              "        await google.colab.output.renderOutput(dataTable, element);\n",
              "        const docLink = document.createElement('div');\n",
              "        docLink.innerHTML = docLinkHtml;\n",
              "        element.appendChild(docLink);\n",
              "      }\n",
              "    </script>\n",
              "  </div>\n",
              "\n",
              "\n",
              "<div id=\"df-05ffe40c-0fe4-4baa-90c7-67548a84f736\">\n",
              "  <button class=\"colab-df-quickchart\" onclick=\"quickchart('df-05ffe40c-0fe4-4baa-90c7-67548a84f736')\"\n",
              "            title=\"Suggest charts\"\n",
              "            style=\"display:none;\">\n",
              "\n",
              "<svg xmlns=\"http://www.w3.org/2000/svg\" height=\"24px\"viewBox=\"0 0 24 24\"\n",
              "     width=\"24px\">\n",
              "    <g>\n",
              "        <path d=\"M19 3H5c-1.1 0-2 .9-2 2v14c0 1.1.9 2 2 2h14c1.1 0 2-.9 2-2V5c0-1.1-.9-2-2-2zM9 17H7v-7h2v7zm4 0h-2V7h2v10zm4 0h-2v-4h2v4z\"/>\n",
              "    </g>\n",
              "</svg>\n",
              "  </button>\n",
              "\n",
              "<style>\n",
              "  .colab-df-quickchart {\n",
              "      --bg-color: #E8F0FE;\n",
              "      --fill-color: #1967D2;\n",
              "      --hover-bg-color: #E2EBFA;\n",
              "      --hover-fill-color: #174EA6;\n",
              "      --disabled-fill-color: #AAA;\n",
              "      --disabled-bg-color: #DDD;\n",
              "  }\n",
              "\n",
              "  [theme=dark] .colab-df-quickchart {\n",
              "      --bg-color: #3B4455;\n",
              "      --fill-color: #D2E3FC;\n",
              "      --hover-bg-color: #434B5C;\n",
              "      --hover-fill-color: #FFFFFF;\n",
              "      --disabled-bg-color: #3B4455;\n",
              "      --disabled-fill-color: #666;\n",
              "  }\n",
              "\n",
              "  .colab-df-quickchart {\n",
              "    background-color: var(--bg-color);\n",
              "    border: none;\n",
              "    border-radius: 50%;\n",
              "    cursor: pointer;\n",
              "    display: none;\n",
              "    fill: var(--fill-color);\n",
              "    height: 32px;\n",
              "    padding: 0;\n",
              "    width: 32px;\n",
              "  }\n",
              "\n",
              "  .colab-df-quickchart:hover {\n",
              "    background-color: var(--hover-bg-color);\n",
              "    box-shadow: 0 1px 2px rgba(60, 64, 67, 0.3), 0 1px 3px 1px rgba(60, 64, 67, 0.15);\n",
              "    fill: var(--button-hover-fill-color);\n",
              "  }\n",
              "\n",
              "  .colab-df-quickchart-complete:disabled,\n",
              "  .colab-df-quickchart-complete:disabled:hover {\n",
              "    background-color: var(--disabled-bg-color);\n",
              "    fill: var(--disabled-fill-color);\n",
              "    box-shadow: none;\n",
              "  }\n",
              "\n",
              "  .colab-df-spinner {\n",
              "    border: 2px solid var(--fill-color);\n",
              "    border-color: transparent;\n",
              "    border-bottom-color: var(--fill-color);\n",
              "    animation:\n",
              "      spin 1s steps(1) infinite;\n",
              "  }\n",
              "\n",
              "  @keyframes spin {\n",
              "    0% {\n",
              "      border-color: transparent;\n",
              "      border-bottom-color: var(--fill-color);\n",
              "      border-left-color: var(--fill-color);\n",
              "    }\n",
              "    20% {\n",
              "      border-color: transparent;\n",
              "      border-left-color: var(--fill-color);\n",
              "      border-top-color: var(--fill-color);\n",
              "    }\n",
              "    30% {\n",
              "      border-color: transparent;\n",
              "      border-left-color: var(--fill-color);\n",
              "      border-top-color: var(--fill-color);\n",
              "      border-right-color: var(--fill-color);\n",
              "    }\n",
              "    40% {\n",
              "      border-color: transparent;\n",
              "      border-right-color: var(--fill-color);\n",
              "      border-top-color: var(--fill-color);\n",
              "    }\n",
              "    60% {\n",
              "      border-color: transparent;\n",
              "      border-right-color: var(--fill-color);\n",
              "    }\n",
              "    80% {\n",
              "      border-color: transparent;\n",
              "      border-right-color: var(--fill-color);\n",
              "      border-bottom-color: var(--fill-color);\n",
              "    }\n",
              "    90% {\n",
              "      border-color: transparent;\n",
              "      border-bottom-color: var(--fill-color);\n",
              "    }\n",
              "  }\n",
              "</style>\n",
              "\n",
              "  <script>\n",
              "    async function quickchart(key) {\n",
              "      const quickchartButtonEl =\n",
              "        document.querySelector('#' + key + ' button');\n",
              "      quickchartButtonEl.disabled = true;  // To prevent multiple clicks.\n",
              "      quickchartButtonEl.classList.add('colab-df-spinner');\n",
              "      try {\n",
              "        const charts = await google.colab.kernel.invokeFunction(\n",
              "            'suggestCharts', [key], {});\n",
              "      } catch (error) {\n",
              "        console.error('Error during call to suggestCharts:', error);\n",
              "      }\n",
              "      quickchartButtonEl.classList.remove('colab-df-spinner');\n",
              "      quickchartButtonEl.classList.add('colab-df-quickchart-complete');\n",
              "    }\n",
              "    (() => {\n",
              "      let quickchartButtonEl =\n",
              "        document.querySelector('#df-05ffe40c-0fe4-4baa-90c7-67548a84f736 button');\n",
              "      quickchartButtonEl.style.display =\n",
              "        google.colab.kernel.accessAllowed ? 'block' : 'none';\n",
              "    })();\n",
              "  </script>\n",
              "</div>\n",
              "\n",
              "    </div>\n",
              "  </div>\n"
            ],
            "application/vnd.google.colaboratory.intrinsic+json": {
              "type": "dataframe",
              "variable_name": "jester_data_dense",
              "summary": "{\n  \"name\": \"jester_data_dense\",\n  \"rows\": 24983,\n  \"fields\": [\n    {\n      \"column\": 4,\n      \"properties\": {\n        \"dtype\": \"number\",\n        \"std\": 0.2617327080273176,\n        \"min\": 0.0025000000000000356,\n        \"max\": 0.9684999999999999,\n        \"num_unique_values\": 399,\n        \"samples\": [\n          0.9344999999999999,\n          0.8835000000000001,\n          0.48550000000000004\n        ],\n        \"semantic_type\": \"\",\n        \"description\": \"\"\n      }\n    },\n    {\n      \"column\": 6,\n      \"properties\": {\n        \"dtype\": \"number\",\n        \"std\": 0.24502702432461906,\n        \"min\": 0.0025000000000000356,\n        \"max\": 0.9734999999999999,\n        \"num_unique_values\": 400,\n        \"samples\": [\n          0.728,\n          0.14300000000000002,\n          0.825\n        ],\n        \"semantic_type\": \"\",\n        \"description\": \"\"\n      }\n    },\n    {\n      \"column\": 7,\n      \"properties\": {\n        \"dtype\": \"number\",\n        \"std\": 0.27479652591712933,\n        \"min\": 0.0025000000000000356,\n        \"max\": 0.9804999999999999,\n        \"num_unique_values\": 400,\n        \"samples\": [\n          0.488,\n          0.0875,\n          0.194\n        ],\n        \"semantic_type\": \"\",\n        \"description\": \"\"\n      }\n    },\n    {\n      \"column\": 12,\n      \"properties\": {\n        \"dtype\": \"number\",\n        \"std\": 0.24239392969852713,\n        \"min\": 0.0025000000000000356,\n        \"max\": 0.9925,\n        \"num_unique_values\": 401,\n        \"samples\": [\n          0.05599999999999996,\n          0.34950000000000003,\n          0.852\n        ],\n        \"semantic_type\": \"\",\n        \"description\": \"\"\n      }\n    },\n    {\n      \"column\": 14,\n      \"properties\": {\n        \"dtype\": \"number\",\n        \"std\": 0.2561192466623408,\n        \"min\": 0.0025000000000000356,\n        \"max\": 0.9780000000000001,\n        \"num_unique_values\": 400,\n        \"samples\": [\n          0.9395,\n          0.05350000000000001,\n          0.6214999999999999\n        ],\n        \"semantic_type\": \"\",\n        \"description\": \"\"\n      }\n    },\n    {\n      \"column\": 15,\n      \"properties\": {\n        \"dtype\": \"number\",\n        \"std\": 0.25616448163234745,\n        \"min\": 0.0025000000000000356,\n        \"max\": 0.9949999999999999,\n        \"num_unique_values\": 400,\n        \"samples\": [\n          0.391,\n          0.296,\n          0.556\n        ],\n        \"semantic_type\": \"\",\n        \"description\": \"\"\n      }\n    },\n    {\n      \"column\": 16,\n      \"properties\": {\n        \"dtype\": \"number\",\n        \"std\": 0.2478129128680838,\n        \"min\": 0.0025000000000000356,\n        \"max\": 0.9684999999999999,\n        \"num_unique_values\": 399,\n        \"samples\": [\n          0.6769999999999999,\n          0.789,\n          0.182\n        ],\n        \"semantic_type\": \"\",\n        \"description\": \"\"\n      }\n    },\n    {\n      \"column\": 17,\n      \"properties\": {\n        \"dtype\": \"number\",\n        \"std\": 0.2199240815952533,\n        \"min\": 0.0025000000000000356,\n        \"max\": 0.9684999999999999,\n        \"num_unique_values\": 399,\n        \"samples\": [\n          0.2985,\n          0.8154999999999999,\n          0.352\n        ],\n        \"semantic_type\": \"\",\n        \"description\": \"\"\n      }\n    },\n    {\n      \"column\": 18,\n      \"properties\": {\n        \"dtype\": \"number\",\n        \"std\": 0.24396529498698566,\n        \"min\": 0.0025000000000000356,\n        \"max\": 0.9905000000000002,\n        \"num_unique_values\": 401,\n        \"samples\": [\n          0.007500000000000018,\n          0.267,\n          0.665\n        ],\n        \"semantic_type\": \"\",\n        \"description\": \"\"\n      }\n    },\n    {\n      \"column\": 19,\n      \"properties\": {\n        \"dtype\": \"number\",\n        \"std\": 0.24437430816367334,\n        \"min\": 0.0025000000000000356,\n        \"max\": 0.9780000000000001,\n        \"num_unique_values\": 400,\n        \"samples\": [\n          0.575,\n          0.058499999999999996,\n          0.233\n        ],\n        \"semantic_type\": \"\",\n        \"description\": \"\"\n      }\n    }\n  ]\n}"
            }
          },
          "metadata": {},
          "execution_count": 9
        }
      ],
      "source": [
        "# Charger le fichier Excel Jester\n",
        "file_path = \"/content/jester-data-1.xls\"  # Remplacez par le chemin réel\n",
        "jester_data = pd.read_excel(file_path, header=None)\n",
        "\n",
        "# Afficher les dimensions et un aperçu des données\n",
        "print(\"Dimensions initiales du dataset :\", jester_data.shape)\n",
        "print(jester_data.head())\n",
        "\n",
        "# Filtrer les colonnes pertinentes (5, 7, 8, 13, 15-20) et conserver uniquement les évaluations\n",
        "columns_dense = [4, 6, 7, 12, 14, 15, 16, 17, 18, 19]  # Index de colonnes 0-based Les colonnes 5, 7, 8, 13, 15-20 ont été identifiées comme étant denses, ce qui signifie que presque tous les utilisateurs ont donné des évaluations dans ces colonnes.\n",
        "jester_data_dense = jester_data.iloc[:, columns_dense]\n",
        "\n",
        "# Remplacer les évaluations non notées (99) par NaN pour traitement\n",
        "jester_data_dense.replace(99, np.nan, inplace=True)\n",
        "\n",
        "# Normaliser les évaluations entre 0 et 1 pour le modèle\n",
        "jester_data_dense = (jester_data_dense + 10) / 20\n",
        "\n",
        "# Afficher un aperçu des données transformées\n",
        "print(\"Aperçu des données après filtrage et normalisation :\")\n",
        "jester_data_dense.head()"
      ]
    },
    {
      "cell_type": "markdown",
      "source": [
        "# Étape 2 : Division des données\n",
        "### Nous allons diviser les données en ensembles d'entraînement et de test. Les valeurs manquantes (NaN) seront remplacées par 0, mais le modèle doit gérer ces cas correctement."
      ],
      "metadata": {
        "id": "qLYSBgY25K-O"
      }
    },
    {
      "cell_type": "code",
      "source": [
        "# Diviser les données en ensembles d'entraînement et de test\n",
        "from sklearn.model_selection import train_test_split\n",
        "\n",
        "# Remplacer les NaN par 0 pour créer des matrices d'entrée\n",
        "jester_data_dense_filled = jester_data_dense.fillna(0)\n",
        "\n",
        "# Diviser les données en 80% pour entraînement et 20% pour test\n",
        "train_data, test_data = train_test_split(jester_data_dense_filled, test_size=0.2, random_state=42)\n",
        "\n",
        "# Conversion en matrices numpy\n",
        "train_data_matrix = train_data.values\n",
        "test_data_matrix = test_data.values\n",
        "\n",
        "# Afficher les dimensions des ensembles\n",
        "print(\"Dimensions de la matrice d'entraînement :\", train_data_matrix.shape)\n",
        "print(\"Dimensions de la matrice de test :\", test_data_matrix.shape)"
      ],
      "metadata": {
        "colab": {
          "base_uri": "https://localhost:8080/"
        },
        "id": "VRgeCgSp5Jdo",
        "outputId": "87a61ea9-dad1-4416-c65b-91b14e6eef47"
      },
      "execution_count": 10,
      "outputs": [
        {
          "output_type": "stream",
          "name": "stdout",
          "text": [
            "Dimensions de la matrice d'entraînement : (19986, 10)\n",
            "Dimensions de la matrice de test : (4997, 10)\n"
          ]
        }
      ]
    },
    {
      "cell_type": "markdown",
      "source": [
        "# Étape 3 : Modélisation avec un Autoencodeur\n",
        "### Nous utiliserons un autoencodeur simple pour modéliser les évaluations des utilisateurs."
      ],
      "metadata": {
        "id": "V2aexjfu5Yn8"
      }
    },
    {
      "cell_type": "code",
      "execution_count": 11,
      "metadata": {
        "id": "lcNkbIounMnr"
      },
      "outputs": [],
      "source": [
        "# Définir les dimensions de l'autoencodeur\n",
        "input_dim = train_data_matrix.shape[1]  # Nombre de blagues sélectionnées\n",
        "encoding_dim = 8  # Taille de la couche encodée (paramètre ajustable)\n",
        "\n",
        "# Construire l'architecture de l'autoencodeur\n",
        "input_layer = tf.keras.layers.Input(shape=(input_dim,))\n",
        "encoded = tf.keras.layers.Dense(encoding_dim, activation='relu')(input_layer)\n",
        "decoded = tf.keras.layers.Dense(input_dim, activation='sigmoid')(encoded)\n",
        "\n",
        "# Compiler le modèle\n",
        "autoencoder = tf.keras.Model(inputs=input_layer, outputs=decoded)\n",
        "autoencoder.compile(optimizer='adam', loss='mean_squared_error')"
      ]
    },
    {
      "cell_type": "code",
      "source": [
        "# Entraîner l'autoencodeur\n",
        "autoencoder.fit(train_data_matrix, train_data_matrix,\n",
        "                epochs=50,\n",
        "                batch_size=256,\n",
        "                shuffle=True,\n",
        "                validation_data=(test_data_matrix, test_data_matrix))"
      ],
      "metadata": {
        "colab": {
          "base_uri": "https://localhost:8080/"
        },
        "id": "Mcbietbz3aXZ",
        "outputId": "589cb30b-fb41-4d70-f193-532a486ce0f1"
      },
      "execution_count": 12,
      "outputs": [
        {
          "output_type": "stream",
          "name": "stdout",
          "text": [
            "Epoch 1/50\n",
            "\u001b[1m79/79\u001b[0m \u001b[32m━━━━━━━━━━━━━━━━━━━━\u001b[0m\u001b[37m\u001b[0m \u001b[1m2s\u001b[0m 6ms/step - loss: 0.0861 - val_loss: 0.0767\n",
            "Epoch 2/50\n",
            "\u001b[1m79/79\u001b[0m \u001b[32m━━━━━━━━━━━━━━━━━━━━\u001b[0m\u001b[37m\u001b[0m \u001b[1m0s\u001b[0m 2ms/step - loss: 0.0745 - val_loss: 0.0705\n",
            "Epoch 3/50\n",
            "\u001b[1m79/79\u001b[0m \u001b[32m━━━━━━━━━━━━━━━━━━━━\u001b[0m\u001b[37m\u001b[0m \u001b[1m0s\u001b[0m 3ms/step - loss: 0.0686 - val_loss: 0.0646\n",
            "Epoch 4/50\n",
            "\u001b[1m79/79\u001b[0m \u001b[32m━━━━━━━━━━━━━━━━━━━━\u001b[0m\u001b[37m\u001b[0m \u001b[1m0s\u001b[0m 2ms/step - loss: 0.0623 - val_loss: 0.0584\n",
            "Epoch 5/50\n",
            "\u001b[1m79/79\u001b[0m \u001b[32m━━━━━━━━━━━━━━━━━━━━\u001b[0m\u001b[37m\u001b[0m \u001b[1m0s\u001b[0m 3ms/step - loss: 0.0566 - val_loss: 0.0530\n",
            "Epoch 6/50\n",
            "\u001b[1m79/79\u001b[0m \u001b[32m━━━━━━━━━━━━━━━━━━━━\u001b[0m\u001b[37m\u001b[0m \u001b[1m0s\u001b[0m 3ms/step - loss: 0.0512 - val_loss: 0.0484\n",
            "Epoch 7/50\n",
            "\u001b[1m79/79\u001b[0m \u001b[32m━━━━━━━━━━━━━━━━━━━━\u001b[0m\u001b[37m\u001b[0m \u001b[1m0s\u001b[0m 3ms/step - loss: 0.0465 - val_loss: 0.0412\n",
            "Epoch 8/50\n",
            "\u001b[1m79/79\u001b[0m \u001b[32m━━━━━━━━━━━━━━━━━━━━\u001b[0m\u001b[37m\u001b[0m \u001b[1m0s\u001b[0m 4ms/step - loss: 0.0397 - val_loss: 0.0361\n",
            "Epoch 9/50\n",
            "\u001b[1m79/79\u001b[0m \u001b[32m━━━━━━━━━━━━━━━━━━━━\u001b[0m\u001b[37m\u001b[0m \u001b[1m1s\u001b[0m 3ms/step - loss: 0.0350 - val_loss: 0.0325\n",
            "Epoch 10/50\n",
            "\u001b[1m79/79\u001b[0m \u001b[32m━━━━━━━━━━━━━━━━━━━━\u001b[0m\u001b[37m\u001b[0m \u001b[1m0s\u001b[0m 3ms/step - loss: 0.0318 - val_loss: 0.0296\n",
            "Epoch 11/50\n",
            "\u001b[1m79/79\u001b[0m \u001b[32m━━━━━━━━━━━━━━━━━━━━\u001b[0m\u001b[37m\u001b[0m \u001b[1m0s\u001b[0m 4ms/step - loss: 0.0289 - val_loss: 0.0274\n",
            "Epoch 12/50\n",
            "\u001b[1m79/79\u001b[0m \u001b[32m━━━━━━━━━━━━━━━━━━━━\u001b[0m\u001b[37m\u001b[0m \u001b[1m1s\u001b[0m 3ms/step - loss: 0.0268 - val_loss: 0.0257\n",
            "Epoch 13/50\n",
            "\u001b[1m79/79\u001b[0m \u001b[32m━━━━━━━━━━━━━━━━━━━━\u001b[0m\u001b[37m\u001b[0m \u001b[1m0s\u001b[0m 2ms/step - loss: 0.0251 - val_loss: 0.0244\n",
            "Epoch 14/50\n",
            "\u001b[1m79/79\u001b[0m \u001b[32m━━━━━━━━━━━━━━━━━━━━\u001b[0m\u001b[37m\u001b[0m \u001b[1m0s\u001b[0m 2ms/step - loss: 0.0237 - val_loss: 0.0234\n",
            "Epoch 15/50\n",
            "\u001b[1m79/79\u001b[0m \u001b[32m━━━━━━━━━━━━━━━━━━━━\u001b[0m\u001b[37m\u001b[0m \u001b[1m0s\u001b[0m 2ms/step - loss: 0.0230 - val_loss: 0.0226\n",
            "Epoch 16/50\n",
            "\u001b[1m79/79\u001b[0m \u001b[32m━━━━━━━━━━━━━━━━━━━━\u001b[0m\u001b[37m\u001b[0m \u001b[1m0s\u001b[0m 2ms/step - loss: 0.0221 - val_loss: 0.0219\n",
            "Epoch 17/50\n",
            "\u001b[1m79/79\u001b[0m \u001b[32m━━━━━━━━━━━━━━━━━━━━\u001b[0m\u001b[37m\u001b[0m \u001b[1m0s\u001b[0m 2ms/step - loss: 0.0214 - val_loss: 0.0214\n",
            "Epoch 18/50\n",
            "\u001b[1m79/79\u001b[0m \u001b[32m━━━━━━━━━━━━━━━━━━━━\u001b[0m\u001b[37m\u001b[0m \u001b[1m0s\u001b[0m 2ms/step - loss: 0.0208 - val_loss: 0.0209\n",
            "Epoch 19/50\n",
            "\u001b[1m79/79\u001b[0m \u001b[32m━━━━━━━━━━━━━━━━━━━━\u001b[0m\u001b[37m\u001b[0m \u001b[1m0s\u001b[0m 2ms/step - loss: 0.0204 - val_loss: 0.0204\n",
            "Epoch 20/50\n",
            "\u001b[1m79/79\u001b[0m \u001b[32m━━━━━━━━━━━━━━━━━━━━\u001b[0m\u001b[37m\u001b[0m \u001b[1m0s\u001b[0m 2ms/step - loss: 0.0201 - val_loss: 0.0200\n",
            "Epoch 21/50\n",
            "\u001b[1m79/79\u001b[0m \u001b[32m━━━━━━━━━━━━━━━━━━━━\u001b[0m\u001b[37m\u001b[0m \u001b[1m0s\u001b[0m 2ms/step - loss: 0.0196 - val_loss: 0.0196\n",
            "Epoch 22/50\n",
            "\u001b[1m79/79\u001b[0m \u001b[32m━━━━━━━━━━━━━━━━━━━━\u001b[0m\u001b[37m\u001b[0m \u001b[1m0s\u001b[0m 2ms/step - loss: 0.0195 - val_loss: 0.0193\n",
            "Epoch 23/50\n",
            "\u001b[1m79/79\u001b[0m \u001b[32m━━━━━━━━━━━━━━━━━━━━\u001b[0m\u001b[37m\u001b[0m \u001b[1m0s\u001b[0m 2ms/step - loss: 0.0191 - val_loss: 0.0190\n",
            "Epoch 24/50\n",
            "\u001b[1m79/79\u001b[0m \u001b[32m━━━━━━━━━━━━━━━━━━━━\u001b[0m\u001b[37m\u001b[0m \u001b[1m0s\u001b[0m 2ms/step - loss: 0.0187 - val_loss: 0.0187\n",
            "Epoch 25/50\n",
            "\u001b[1m79/79\u001b[0m \u001b[32m━━━━━━━━━━━━━━━━━━━━\u001b[0m\u001b[37m\u001b[0m \u001b[1m0s\u001b[0m 2ms/step - loss: 0.0183 - val_loss: 0.0184\n",
            "Epoch 26/50\n",
            "\u001b[1m79/79\u001b[0m \u001b[32m━━━━━━━━━━━━━━━━━━━━\u001b[0m\u001b[37m\u001b[0m \u001b[1m0s\u001b[0m 2ms/step - loss: 0.0180 - val_loss: 0.0182\n",
            "Epoch 27/50\n",
            "\u001b[1m79/79\u001b[0m \u001b[32m━━━━━━━━━━━━━━━━━━━━\u001b[0m\u001b[37m\u001b[0m \u001b[1m0s\u001b[0m 2ms/step - loss: 0.0181 - val_loss: 0.0180\n",
            "Epoch 28/50\n",
            "\u001b[1m79/79\u001b[0m \u001b[32m━━━━━━━━━━━━━━━━━━━━\u001b[0m\u001b[37m\u001b[0m \u001b[1m0s\u001b[0m 2ms/step - loss: 0.0177 - val_loss: 0.0178\n",
            "Epoch 29/50\n",
            "\u001b[1m79/79\u001b[0m \u001b[32m━━━━━━━━━━━━━━━━━━━━\u001b[0m\u001b[37m\u001b[0m \u001b[1m0s\u001b[0m 2ms/step - loss: 0.0174 - val_loss: 0.0177\n",
            "Epoch 30/50\n",
            "\u001b[1m79/79\u001b[0m \u001b[32m━━━━━━━━━━━━━━━━━━━━\u001b[0m\u001b[37m\u001b[0m \u001b[1m0s\u001b[0m 2ms/step - loss: 0.0174 - val_loss: 0.0175\n",
            "Epoch 31/50\n",
            "\u001b[1m79/79\u001b[0m \u001b[32m━━━━━━━━━━━━━━━━━━━━\u001b[0m\u001b[37m\u001b[0m \u001b[1m0s\u001b[0m 2ms/step - loss: 0.0171 - val_loss: 0.0174\n",
            "Epoch 32/50\n",
            "\u001b[1m79/79\u001b[0m \u001b[32m━━━━━━━━━━━━━━━━━━━━\u001b[0m\u001b[37m\u001b[0m \u001b[1m0s\u001b[0m 2ms/step - loss: 0.0171 - val_loss: 0.0173\n",
            "Epoch 33/50\n",
            "\u001b[1m79/79\u001b[0m \u001b[32m━━━━━━━━━━━━━━━━━━━━\u001b[0m\u001b[37m\u001b[0m \u001b[1m0s\u001b[0m 2ms/step - loss: 0.0170 - val_loss: 0.0172\n",
            "Epoch 34/50\n",
            "\u001b[1m79/79\u001b[0m \u001b[32m━━━━━━━━━━━━━━━━━━━━\u001b[0m\u001b[37m\u001b[0m \u001b[1m0s\u001b[0m 2ms/step - loss: 0.0170 - val_loss: 0.0171\n",
            "Epoch 35/50\n",
            "\u001b[1m79/79\u001b[0m \u001b[32m━━━━━━━━━━━━━━━━━━━━\u001b[0m\u001b[37m\u001b[0m \u001b[1m0s\u001b[0m 2ms/step - loss: 0.0168 - val_loss: 0.0170\n",
            "Epoch 36/50\n",
            "\u001b[1m79/79\u001b[0m \u001b[32m━━━━━━━━━━━━━━━━━━━━\u001b[0m\u001b[37m\u001b[0m \u001b[1m0s\u001b[0m 2ms/step - loss: 0.0166 - val_loss: 0.0169\n",
            "Epoch 37/50\n",
            "\u001b[1m79/79\u001b[0m \u001b[32m━━━━━━━━━━━━━━━━━━━━\u001b[0m\u001b[37m\u001b[0m \u001b[1m0s\u001b[0m 2ms/step - loss: 0.0166 - val_loss: 0.0168\n",
            "Epoch 38/50\n",
            "\u001b[1m79/79\u001b[0m \u001b[32m━━━━━━━━━━━━━━━━━━━━\u001b[0m\u001b[37m\u001b[0m \u001b[1m0s\u001b[0m 2ms/step - loss: 0.0166 - val_loss: 0.0168\n",
            "Epoch 39/50\n",
            "\u001b[1m79/79\u001b[0m \u001b[32m━━━━━━━━━━━━━━━━━━━━\u001b[0m\u001b[37m\u001b[0m \u001b[1m0s\u001b[0m 2ms/step - loss: 0.0166 - val_loss: 0.0167\n",
            "Epoch 40/50\n",
            "\u001b[1m79/79\u001b[0m \u001b[32m━━━━━━━━━━━━━━━━━━━━\u001b[0m\u001b[37m\u001b[0m \u001b[1m0s\u001b[0m 2ms/step - loss: 0.0165 - val_loss: 0.0167\n",
            "Epoch 41/50\n",
            "\u001b[1m79/79\u001b[0m \u001b[32m━━━━━━━━━━━━━━━━━━━━\u001b[0m\u001b[37m\u001b[0m \u001b[1m0s\u001b[0m 2ms/step - loss: 0.0164 - val_loss: 0.0166\n",
            "Epoch 42/50\n",
            "\u001b[1m79/79\u001b[0m \u001b[32m━━━━━━━━━━━━━━━━━━━━\u001b[0m\u001b[37m\u001b[0m \u001b[1m0s\u001b[0m 2ms/step - loss: 0.0164 - val_loss: 0.0166\n",
            "Epoch 43/50\n",
            "\u001b[1m79/79\u001b[0m \u001b[32m━━━━━━━━━━━━━━━━━━━━\u001b[0m\u001b[37m\u001b[0m \u001b[1m0s\u001b[0m 2ms/step - loss: 0.0162 - val_loss: 0.0165\n",
            "Epoch 44/50\n",
            "\u001b[1m79/79\u001b[0m \u001b[32m━━━━━━━━━━━━━━━━━━━━\u001b[0m\u001b[37m\u001b[0m \u001b[1m0s\u001b[0m 2ms/step - loss: 0.0161 - val_loss: 0.0165\n",
            "Epoch 45/50\n",
            "\u001b[1m79/79\u001b[0m \u001b[32m━━━━━━━━━━━━━━━━━━━━\u001b[0m\u001b[37m\u001b[0m \u001b[1m0s\u001b[0m 2ms/step - loss: 0.0162 - val_loss: 0.0153\n",
            "Epoch 46/50\n",
            "\u001b[1m79/79\u001b[0m \u001b[32m━━━━━━━━━━━━━━━━━━━━\u001b[0m\u001b[37m\u001b[0m \u001b[1m0s\u001b[0m 3ms/step - loss: 0.0145 - val_loss: 0.0134\n",
            "Epoch 47/50\n",
            "\u001b[1m79/79\u001b[0m \u001b[32m━━━━━━━━━━━━━━━━━━━━\u001b[0m\u001b[37m\u001b[0m \u001b[1m0s\u001b[0m 2ms/step - loss: 0.0129 - val_loss: 0.0127\n",
            "Epoch 48/50\n",
            "\u001b[1m79/79\u001b[0m \u001b[32m━━━━━━━━━━━━━━━━━━━━\u001b[0m\u001b[37m\u001b[0m \u001b[1m0s\u001b[0m 2ms/step - loss: 0.0126 - val_loss: 0.0124\n",
            "Epoch 49/50\n",
            "\u001b[1m79/79\u001b[0m \u001b[32m━━━━━━━━━━━━━━━━━━━━\u001b[0m\u001b[37m\u001b[0m \u001b[1m0s\u001b[0m 2ms/step - loss: 0.0122 - val_loss: 0.0123\n",
            "Epoch 50/50\n",
            "\u001b[1m79/79\u001b[0m \u001b[32m━━━━━━━━━━━━━━━━━━━━\u001b[0m\u001b[37m\u001b[0m \u001b[1m0s\u001b[0m 3ms/step - loss: 0.0120 - val_loss: 0.0123\n"
          ]
        },
        {
          "output_type": "execute_result",
          "data": {
            "text/plain": [
              "<keras.src.callbacks.history.History at 0x7e18b06ad150>"
            ]
          },
          "metadata": {},
          "execution_count": 12
        }
      ]
    },
    {
      "cell_type": "markdown",
      "source": [
        "# Étape 4 : Générer des recommandations\n",
        "### Nous allons prédire les évaluations et recommander des blagues non notées."
      ],
      "metadata": {
        "id": "YLJ1dy2x51ni"
      }
    },
    {
      "cell_type": "code",
      "source": [
        "# Prédire les évaluations des utilisateurs\n",
        "predicted_ratings = autoencoder.predict(test_data_matrix)\n",
        "\n",
        "# Fonction pour recommander des blagues\n",
        "def recommend_jokes(user_index, predicted_ratings, original_ratings, num_recommendations=5):\n",
        "    user_ratings = predicted_ratings[user_index]\n",
        "    unseen_jokes = np.where(original_ratings[user_index] == 0)[0]\n",
        "    recommended_indices = unseen_jokes[np.argsort(user_ratings[unseen_jokes])[::-1]]\n",
        "    return recommended_indices[:num_recommendations]"
      ],
      "metadata": {
        "colab": {
          "base_uri": "https://localhost:8080/"
        },
        "id": "f4UE-pyR3cUr",
        "outputId": "113770b3-4d67-4b71-f83f-f8d833214556"
      },
      "execution_count": 13,
      "outputs": [
        {
          "output_type": "stream",
          "name": "stdout",
          "text": [
            "\u001b[1m157/157\u001b[0m \u001b[32m━━━━━━━━━━━━━━━━━━━━\u001b[0m\u001b[37m\u001b[0m \u001b[1m0s\u001b[0m 1ms/step\n"
          ]
        }
      ]
    },
    {
      "cell_type": "code",
      "execution_count": 34,
      "metadata": {
        "id": "2ZZ2ADYXnMqV",
        "colab": {
          "base_uri": "https://localhost:8080/"
        },
        "outputId": "16f672d7-956a-4fce-b1f8-d439093acb4d"
      },
      "outputs": [
        {
          "output_type": "stream",
          "name": "stdout",
          "text": [
            "Blagues recommandées pour l'utilisateur 0 : [1 0]\n"
          ]
        }
      ],
      "source": [
        "# Exemple : Recommander 5 blagues pour l'utilisateur 0\n",
        "recommendations = recommend_jokes(0, predicted_ratings, test_data_matrix, num_recommendations=5)\n",
        "print(\"Blagues recommandées pour l'utilisateur 0 :\", recommendations)"
      ]
    },
    {
      "cell_type": "code",
      "source": [
        "import zipfile\n",
        "\n",
        "# Spécifier le fichier ZIP et le dossier de destination\n",
        "zip_file = '/content/jester_dataset_1_joke_texts.zip'\n",
        "destination = '/content/jester_dataset_1_joke_texts'\n",
        "\n",
        "# Ouvrir le fichier ZIP et extraire son contenu\n",
        "with zipfile.ZipFile(zip_file, 'r') as zip_ref:\n",
        "    zip_ref.extractall(destination)\n",
        "    print(\"Fichier décompressé avec succès!\")"
      ],
      "metadata": {
        "colab": {
          "base_uri": "https://localhost:8080/"
        },
        "id": "P-M45a6sHtGp",
        "outputId": "801d021d-5480-4e8c-8d8d-1d771b69d3c9"
      },
      "execution_count": 35,
      "outputs": [
        {
          "output_type": "stream",
          "name": "stdout",
          "text": [
            "Fichier décompressé avec succès!\n"
          ]
        }
      ]
    },
    {
      "cell_type": "code",
      "source": [
        "import os\n",
        "\n",
        "# Chemin vers le dossier contenant les fichiers HTML des blagues\n",
        "jokes_folder = \"/content/jester_dataset_1_joke_texts/jokes\"\n",
        "\n",
        "# Charger les blagues dans une liste\n",
        "jokes_texts = []\n",
        "for i in range(1, 101):  # Les fichiers vont de init1.html à init100.html\n",
        "    file_path = os.path.join(jokes_folder, f\"init{i}.html\")\n",
        "    with open(file_path, \"r\", encoding=\"utf-8\") as f:\n",
        "        jokes_texts.append(f.read().strip())"
      ],
      "metadata": {
        "id": "53ceLtZkG4bw"
      },
      "execution_count": 36,
      "outputs": []
    },
    {
      "cell_type": "code",
      "source": [
        "# Afficher les textes des recommandations\n",
        "print(\"Textes des blagues recommandées :\")\n",
        "for joke_id in recommendations:\n",
        "    print(f\"Blague {joke_id + 1}:\")\n",
        "    print(jokes_texts[joke_id])\n",
        "    print(\"-\" * 50)"
      ],
      "metadata": {
        "colab": {
          "base_uri": "https://localhost:8080/"
        },
        "id": "usHCc7JvIFbH",
        "outputId": "2af93f78-de0e-4084-da55-fe8dbd29d7d2"
      },
      "execution_count": 37,
      "outputs": [
        {
          "output_type": "stream",
          "name": "stdout",
          "text": [
            "Textes des blagues recommandées :\n",
            "Blague 2:\n",
            "<HTML>\n",
            "<HEAD>\n",
            "    <TITLE>Joke 2 of 25</TITLE>\n",
            "</HEAD>\n",
            "\n",
            "<BODY TEXT=\"black\" BGCOLOR=\"#fddf84\">\n",
            "\n",
            "<TABLE WIDTH=\"620\" CELLSPACING=\"0\" CELLPADDING=\"0\">\n",
            "\n",
            "<TD Width=\"130\"> </TD>\n",
            "<TD WIDTH=\"470\">\n",
            "<BR><CENTER><FONT color=\"red\" size=\"+2\">\n",
            "</Font></center>\n",
            "<UL> <Font Size=\"+1\"> <BR>\n",
            "<!--begin of joke -->\n",
            "This couple had an excellent relationship going until one day he came home\n",
            "from work to find his girlfriend packing. He asked her why she was leaving him\n",
            "and she told him that she had heard awful things about him. \n",
            "<P>\n",
            "\"What could they possibly have said to make you move out?\" \n",
            "<P>\n",
            "\"They told me that you were a pedophile.\" \n",
            "<P>\n",
            "He replied, \"That's an awfully big word for a ten year old.\" \n",
            "<!--end of joke -->\n",
            "<CENTER><TABLE COLS=3 WIDTH=\"100%\">\n",
            "\n",
            "\n",
            "</TABLE></CENTER>\n",
            "\n",
            "\n",
            "\n",
            "\n",
            "\n",
            "</TD></TR></TABLE>\n",
            "</BODY>\n",
            "</HTML>\n",
            "--------------------------------------------------\n",
            "Blague 1:\n",
            "<HTML>\n",
            "<HEAD>\n",
            "<TITLE>Joke 1 of 25</TITLE>\n",
            "</HEAD>\n",
            "\n",
            "<BODY TEXT=\"black\" BGCOLOR=\"#fddf84\">\n",
            "\n",
            "<center>\n",
            "<TABLE WIDTH=\"620\" CELLSPACING=\"0\" CELLPADDING=\"0\">\n",
            "<TD WIDTH=\"470\">\n",
            "<Font Size=\"+1\"> <BR> \n",
            "<!--begin of joke -->\n",
            "A man visits the doctor. The doctor says \"I have bad news for you.You have\n",
            "cancer and Alzheimer's disease\". <P>\n",
            "The man replies \"Well,thank God I don't have cancer!\"\n",
            "<!--end of joke -->\n",
            "</TD></TABLE>\n",
            "</center>\n",
            "</BODY>\n",
            "</HTML>\n",
            "--------------------------------------------------\n"
          ]
        }
      ]
    },
    {
      "cell_type": "code",
      "source": [
        "from bs4 import BeautifulSoup, Comment\n",
        "import os\n",
        "\n",
        "def extract_jokes(jokes_folder):\n",
        "    jokes_texts = []\n",
        "\n",
        "    for i in range(1, 101):\n",
        "        file_path = os.path.join(jokes_folder, f\"init{i}.html\")\n",
        "\n",
        "        try:\n",
        "            with open(file_path, \"r\", encoding=\"utf-8\") as f:\n",
        "                html_content = f.read().strip()\n",
        "\n",
        "            # Parser le contenu HTML\n",
        "            soup = BeautifulSoup(html_content, 'html.parser')\n",
        "\n",
        "            # Trouver les commentaires qui délimitent la blague\n",
        "            comments = soup.find_all(string=lambda text: isinstance(text, Comment))\n",
        "            joke_text = \"\"\n",
        "\n",
        "            start_found = False\n",
        "            for idx, comment in enumerate(comments):\n",
        "                if \"begin of joke\" in comment:\n",
        "                    start_found = True\n",
        "                    start_comment = comment\n",
        "                    end_comment = None\n",
        "\n",
        "                    # Chercher le commentaire de fin correspondant\n",
        "                    for potential_end in comments[idx+1:]:\n",
        "                        if \"end of joke\" in potential_end:\n",
        "                            end_comment = potential_end\n",
        "                            break\n",
        "\n",
        "                    if start_found and end_comment:\n",
        "                        # Extraire tout le texte entre les commentaires\n",
        "                        current = start_comment.next_element\n",
        "                        while current and current != end_comment:\n",
        "                            if isinstance(current, str) and current.strip():\n",
        "                                joke_text += current.strip() + \" \"\n",
        "                            current = current.next_element\n",
        "\n",
        "                    break\n",
        "\n",
        "            jokes_texts.append(joke_text.strip())\n",
        "\n",
        "        except Exception as e:\n",
        "            print(f\"Erreur lors du traitement du fichier {i}: {str(e)}\")\n",
        "            jokes_texts.append(\"\")\n",
        "\n",
        "    return jokes_texts"
      ],
      "metadata": {
        "id": "qB-49G_KMsYi"
      },
      "execution_count": 54,
      "outputs": []
    },
    {
      "cell_type": "code",
      "source": [
        "# Utilisation de la fonction\n",
        "jokes_folder = \"/content/jester_dataset_1_joke_texts/jokes\"\n",
        "jokes_texts = extract_jokes(jokes_folder)\n",
        "\n",
        "# Affichage des blagues\n",
        "def print_jokes(jokes_texts, recommendations):\n",
        "    print(\"Textes des blagues recommandées :\")\n",
        "    for joke_id in recommendations:\n",
        "        joke = jokes_texts[joke_id]\n",
        "        if joke:\n",
        "            print(f\"Blague {joke_id + 1}:\")\n",
        "            print(joke)\n",
        "            print(\"-\" * 50)\n",
        "        else:\n",
        "            print(f\"Blague {joke_id + 1}: Aucun texte extrait.\")"
      ],
      "metadata": {
        "id": "MRs0MX15SW6z"
      },
      "execution_count": 55,
      "outputs": []
    },
    {
      "cell_type": "code",
      "source": [
        "print_jokes(jokes_texts, recommendations)"
      ],
      "metadata": {
        "colab": {
          "base_uri": "https://localhost:8080/"
        },
        "id": "Ch2UY-lFShp8",
        "outputId": "b2eccb33-d459-499e-b968-b7bd7cfb2d6e"
      },
      "execution_count": 56,
      "outputs": [
        {
          "output_type": "stream",
          "name": "stdout",
          "text": [
            "Textes des blagues recommandées :\n",
            "Blague 2:\n",
            "This couple had an excellent relationship going until one day he came home\n",
            "from work to find his girlfriend packing. He asked her why she was leaving him\n",
            "and she told him that she had heard awful things about him. \"What could they possibly have said to make you move out?\" \"They told me that you were a pedophile.\" He replied, \"That's an awfully big word for a ten year old.\"\n",
            "--------------------------------------------------\n",
            "Blague 1:\n",
            "A man visits the doctor. The doctor says \"I have bad news for you.You have\n",
            "cancer and Alzheimer's disease\". The man replies \"Well,thank God I don't have cancer!\"\n",
            "--------------------------------------------------\n"
          ]
        }
      ]
    },
    {
      "cell_type": "code",
      "source": [
        "recommendations = recommend_jokes(99, predicted_ratings, test_data_matrix, num_recommendations=5)\n",
        "print(\"Blagues recommandées pour l'utilisateur  :\", recommendations)\n",
        "print_jokes(jokes_texts, recommendations)"
      ],
      "metadata": {
        "colab": {
          "base_uri": "https://localhost:8080/"
        },
        "id": "HqBGk0g-S3-v",
        "outputId": "fa889045-b384-4a68-ff5e-a29d6a757186"
      },
      "execution_count": 85,
      "outputs": [
        {
          "output_type": "stream",
          "name": "stdout",
          "text": [
            "Blagues recommandées pour l'utilisateur  : []\n",
            "Textes des blagues recommandées :\n"
          ]
        }
      ]
    },
    {
      "cell_type": "code",
      "source": [
        "recommendations = recommend_jokes(203, predicted_ratings, test_data_matrix, num_recommendations=5)\n",
        "print(\"Blagues recommandées pour l'utilisateur  :\", recommendations)\n",
        "print_jokes(jokes_texts, recommendations)"
      ],
      "metadata": {
        "colab": {
          "base_uri": "https://localhost:8080/"
        },
        "id": "j2pUNmh6Vddn",
        "outputId": "503dea6f-d735-4703-bbd1-73d9e5fcb0c6"
      },
      "execution_count": 88,
      "outputs": [
        {
          "output_type": "stream",
          "name": "stdout",
          "text": [
            "Blagues recommandées pour l'utilisateur  : []\n",
            "Textes des blagues recommandées :\n"
          ]
        }
      ]
    }
  ],
  "metadata": {
    "colab": {
      "provenance": []
    },
    "kernelspec": {
      "display_name": "Python 3",
      "name": "python3"
    },
    "language_info": {
      "name": "python"
    }
  },
  "nbformat": 4,
  "nbformat_minor": 0
}